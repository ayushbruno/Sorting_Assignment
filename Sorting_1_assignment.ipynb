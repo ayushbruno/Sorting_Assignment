{
  "nbformat": 4,
  "nbformat_minor": 0,
  "metadata": {
    "colab": {
      "provenance": []
    },
    "kernelspec": {
      "name": "python3",
      "display_name": "Python 3"
    },
    "language_info": {
      "name": "python"
    }
  },
  "cells": [
    {
      "cell_type": "code",
      "execution_count": 1,
      "metadata": {
        "colab": {
          "base_uri": "https://localhost:8080/"
        },
        "id": "M3rlX76YstJt",
        "outputId": "cdff958d-a92a-454a-d1e7-3721908201ec"
      },
      "outputs": [
        {
          "output_type": "stream",
          "name": "stdout",
          "text": [
            "Missing number: 5\n"
          ]
        }
      ],
      "source": [
        "# Problem 2: Find the missing number in a list of numbers from 1 to 𝑛 with no duplicates\n",
        "def find_missing_number(arr, n):\n",
        "    total_sum = n * (n + 1) // 2\n",
        "    return total_sum - sum(arr)\n",
        "\n",
        "# Example\n",
        "arr = [1, 2, 4, 6, 3, 7, 8]\n",
        "n = 8\n",
        "print(\"Missing number:\", find_missing_number(arr, n))\n"
      ]
    },
    {
      "cell_type": "code",
      "source": [
        "# Problem 3: Find the number that appears an odd number of times in an array.\n",
        "def find_odd_occurrence(arr):\n",
        "    result = 0\n",
        "    for num in arr:\n",
        "        result ^= num\n",
        "    return result\n",
        "\n",
        "# Example\n",
        "arr = [1, 2, 3, 2, 3, 1, 3]\n",
        "print(\"Element with odd occurrences:\", find_odd_occurrence(arr))\n"
      ],
      "metadata": {
        "colab": {
          "base_uri": "https://localhost:8080/"
        },
        "id": "k5mG7Rdwu0kc",
        "outputId": "47eb6835-c4b8-4695-d6d0-83496bfb6f0a"
      },
      "execution_count": 2,
      "outputs": [
        {
          "output_type": "stream",
          "name": "stdout",
          "text": [
            "Element with odd occurrences: 3\n"
          ]
        }
      ]
    },
    {
      "cell_type": "code",
      "source": [
        "# Problem 4: Find two elements in an array whose sum equals a given element k.\n",
        "def find_pair_with_sum_two_pointers(arr, K):\n",
        "    # Sort the array first\n",
        "    arr.sort()\n",
        "    left, right = 0, len(arr) - 1\n",
        "\n",
        "    # Use two pointers to find the pair\n",
        "    while left < right:\n",
        "        current_sum = arr[left] + arr[right]\n",
        "\n",
        "        # Check if the current sum matches the target\n",
        "        if current_sum == K:\n",
        "            return arr[left], arr[right]\n",
        "        elif current_sum < K:\n",
        "            left += 1  # Move left pointer to increase the sum\n",
        "        else:\n",
        "            right -= 1  # Move right pointer to decrease the sum\n",
        "\n",
        "    # If no pair is found\n",
        "    return None\n",
        "\n",
        "# Example\n",
        "arr = [1, 4, 45, 6, 10, -8]\n",
        "K = 16\n",
        "print(\"Pair with sum equal to K:\", find_pair_with_sum_two_pointers(arr, K))\n",
        "\n"
      ],
      "metadata": {
        "colab": {
          "base_uri": "https://localhost:8080/"
        },
        "id": "y0u9UTsMxdfX",
        "outputId": "40dbee0a-d123-47e4-96c3-2d74f454ffb8"
      },
      "execution_count": 5,
      "outputs": [
        {
          "output_type": "stream",
          "name": "stdout",
          "text": [
            "Pair with sum equal to K: (6, 10)\n"
          ]
        }
      ]
    },
    {
      "cell_type": "code",
      "source": [
        "# Problem 5: Find two numbers in an array whose sum is closest to 0.\n",
        "def closest_to_zero(arr):\n",
        "    arr.sort()\n",
        "    left, right = 0, len(arr) - 1\n",
        "    min_sum = float('inf')\n",
        "    closest_pair = (None, None)\n",
        "\n",
        "    while left < right:\n",
        "        curr_sum = arr[left] + arr[right]\n",
        "        if abs(curr_sum) < abs(min_sum):\n",
        "            min_sum = curr_sum\n",
        "            closest_pair = (arr[left], arr[right])\n",
        "        if curr_sum < 0:\n",
        "            left += 1\n",
        "        else:\n",
        "            right -= 1\n",
        "\n",
        "    return closest_pair\n",
        "\n",
        "# Example\n",
        "arr = [1, 60, -10, 70, -80, 85]\n",
        "print(\"Pair with sum closest to 0:\", closest_to_zero(arr))\n"
      ],
      "metadata": {
        "colab": {
          "base_uri": "https://localhost:8080/"
        },
        "id": "C0pFUCQD1bvJ",
        "outputId": "000a6977-3d99-4f81-81cf-ce99b5f27d7f"
      },
      "execution_count": 6,
      "outputs": [
        {
          "output_type": "stream",
          "name": "stdout",
          "text": [
            "Pair with sum closest to 0: (-80, 85)\n"
          ]
        }
      ]
    },
    {
      "cell_type": "code",
      "source": [
        "# Problem 6: Find three elements in an array such that their sum equals a given number.\n",
        "def find_triplet_with_sum(arr, target_sum):\n",
        "    arr.sort()\n",
        "    n = len(arr)\n",
        "\n",
        "    for i in range(n - 2):\n",
        "        left, right = i + 1, n - 1\n",
        "        while left < right:\n",
        "            current_sum = arr[i] + arr[left] + arr[right]\n",
        "            if current_sum == target_sum:\n",
        "                return arr[i], arr[left], arr[right]\n",
        "            elif current_sum < target_sum:\n",
        "                left += 1\n",
        "            else:\n",
        "                right -= 1\n",
        "    return None\n",
        "\n",
        "# Example\n",
        "arr = [12, 3, 4, 1, 6, 9]\n",
        "target_sum = 24\n",
        "print(\"Triplet with given sum:\", find_triplet_with_sum(arr, target_sum))\n"
      ],
      "metadata": {
        "colab": {
          "base_uri": "https://localhost:8080/"
        },
        "id": "MQkNTaP06lud",
        "outputId": "0175a16e-a1c7-4b3f-d53a-536888cef08e"
      },
      "execution_count": 7,
      "outputs": [
        {
          "output_type": "stream",
          "name": "stdout",
          "text": [
            "Triplet with given sum: (3, 9, 12)\n"
          ]
        }
      ]
    },
    {
      "cell_type": "code",
      "source": [
        "# Problem 7 : Given an array of n elements . Find three elements i, j, k in the array such that\n",
        "# i * i + j * j = k*k.\n",
        "def find_pythagorean_triplet(arr):\n",
        "    squares = {x*x for x in arr}\n",
        "    for i in range(len(arr)):\n",
        "        for j in range(i + 1, len(arr)):\n",
        "            if arr[i]**2 + arr[j]**2 in squares:\n",
        "                return arr[i], arr[j], int((arr[i]**2 + arr[j]**2) ** 0.5)\n",
        "    return None\n",
        "\n",
        "# Example\n",
        "arr = [3, 1, 4, 6, 5]\n",
        "print(\"Pythagorean triplet:\", find_pythagorean_triplet(arr))\n"
      ],
      "metadata": {
        "colab": {
          "base_uri": "https://localhost:8080/"
        },
        "id": "hC77wVyD6xTr",
        "outputId": "8f297baf-1db3-401f-9934-48f812e331ed"
      },
      "execution_count": 8,
      "outputs": [
        {
          "output_type": "stream",
          "name": "stdout",
          "text": [
            "Pythagorean triplet: (3, 4, 5)\n"
          ]
        }
      ]
    },
    {
      "cell_type": "code",
      "source": [
        "# Problem 8 : An element is a majority if it appears more than n/2 times. Give an algorithm takes an array of n\n",
        "# element as argument and identifies a majority (if it exists).\n",
        "def find_majority_element(arr):\n",
        "    count, candidate = 0, None\n",
        "\n",
        "    # Boyer-Moore Voting Algorithm\n",
        "    for num in arr:\n",
        "        if count == 0:\n",
        "            candidate = num\n",
        "        count += (1 if num == candidate else -1)\n",
        "\n",
        "    # Verify candidate\n",
        "    if arr.count(candidate) > len(arr) // 2:\n",
        "        return candidate\n",
        "    else:\n",
        "        return None\n",
        "\n",
        "# Example\n",
        "arr = [2, 2, 1, 1, 2, 2, 2]\n",
        "print(\"Majority element:\", find_majority_element(arr))\n"
      ],
      "metadata": {
        "colab": {
          "base_uri": "https://localhost:8080/"
        },
        "id": "uI_nSZEz6_am",
        "outputId": "7e187514-cd39-4d40-fbdf-8006a5df07a1"
      },
      "execution_count": 9,
      "outputs": [
        {
          "output_type": "stream",
          "name": "stdout",
          "text": [
            "Majority element: 2\n"
          ]
        }
      ]
    },
    {
      "cell_type": "code",
      "source": [
        "# Problem 9 : Given n × n matrix, and in each row all 1’s are followed by 0’s. Find the row with the maximum\n",
        "# number of 0’s.\n",
        "def row_with_max_zeros(matrix):\n",
        "    max_zeros, row_index = -1, -1\n",
        "    for i, row in enumerate(matrix):\n",
        "        zero_count = row.count(0)\n",
        "        if zero_count > max_zeros:\n",
        "            max_zeros = zero_count\n",
        "            row_index = i\n",
        "    return row_index\n",
        "\n",
        "# Example\n",
        "matrix = [\n",
        "    [1, 1, 0, 0],\n",
        "    [1, 0, 0, 0],\n",
        "    [1, 1, 1, 0]\n",
        "]\n",
        "print(\"Row with maximum zeros:\", row_with_max_zeros(matrix))\n"
      ],
      "metadata": {
        "colab": {
          "base_uri": "https://localhost:8080/"
        },
        "id": "6eVn2Gks7Uj3",
        "outputId": "20607c3d-e4ee-414c-edbf-08ec405f625c"
      },
      "execution_count": 10,
      "outputs": [
        {
          "output_type": "stream",
          "name": "stdout",
          "text": [
            "Row with maximum zeros: 1\n"
          ]
        }
      ]
    },
    {
      "cell_type": "code",
      "source": [
        "# Problem 10 : Sort an array of 0’s, 1’s and 2’s [or R’s, G’s and B’s]: Given an array A[] consisting of 0’s, 1’s and\n",
        "# 2’s, give an algorithm for sorting A[].The algorithm should put all 0’s first, then all 1’s and finally all 2’s at the\n",
        "# end. Example Input = {0,1,1,0,1,2,1,2,0,0,0,1}, Output = {0,0,0,0,0,1,1,1,1,1,2,2}\n",
        "\n",
        "def sort_012(arr):\n",
        "    low, mid, high = 0, 0, len(arr) - 1\n",
        "\n",
        "    while mid <= high:\n",
        "        if arr[mid] == 0:\n",
        "            arr[low], arr[mid] = arr[mid], arr[low]\n",
        "            low += 1\n",
        "            mid += 1\n",
        "        elif arr[mid] == 1:\n",
        "            mid += 1\n",
        "        else:\n",
        "            arr[mid], arr[high] = arr[high], arr[mid]\n",
        "            high -= 1\n",
        "\n",
        "    return arr\n",
        "\n",
        "# Example\n",
        "arr = [0, 1, 1, 0, 1, 2, 1, 2, 0, 0, 0, 1]\n",
        "print(\"Sorted array:\", sort_012(arr))\n"
      ],
      "metadata": {
        "colab": {
          "base_uri": "https://localhost:8080/"
        },
        "id": "fS4pcJJ97fNB",
        "outputId": "8b3f1cb7-a424-42ca-fc95-c21442cb5a96"
      },
      "execution_count": 11,
      "outputs": [
        {
          "output_type": "stream",
          "name": "stdout",
          "text": [
            "Sorted array: [0, 0, 0, 0, 0, 1, 1, 1, 1, 1, 2, 2]\n"
          ]
        }
      ]
    },
    {
      "cell_type": "code",
      "source": [],
      "metadata": {
        "id": "NM09N8Li7oix"
      },
      "execution_count": null,
      "outputs": []
    }
  ]
}